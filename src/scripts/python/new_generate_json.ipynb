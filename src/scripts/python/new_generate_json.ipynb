{
 "cells": [
  {
   "cell_type": "code",
   "execution_count": null,
   "metadata": {},
   "outputs": [],
   "source": [
    "import pandas as pd\n",
    "import openpyxl\n",
    "\n",
    "sourceFile=\"Family expenses.xlsm\"\n",
    "outputJSON=\"output.json\"\n",
    "\n",
    "book = openpyxl.load_workbook(sourceFile, data_only=True, read_only=True)\n",
    "\n",
    "dfExpense = pd.read_excel(\n",
    "    sourceFile,\n",
    "    sheet_name=\"Expenses DB\",\n",
    "    skiprows=9,\n",
    "    usecols=\"J,Q:U\",\n",
    ")\n",
    "dfIncome = pd.read_excel(\n",
    "    sourceFile,\n",
    "    sheet_name=\"Income DB\",\n",
    "    skiprows=9,\n",
    "    usecols=\"J,Q:U\",\n",
    ")\n",
    "\n",
    "dfExpense[\"Amount\"] *= -1\n",
    "dfIncome.rename(columns={\"Type \": \"Category\"}, inplace=True)\n",
    "dfIncome[\"Store\"] = \"NA\"\n",
    "dfIncome[\"Exclude in WE\"] = \"YES\"\n",
    "dfResult = dfExpense.append(dfIncome)\n",
    "dfResult.sort_values(by=\"Date\", inplace=True)\n",
    "dfResult.rename(columns={\"Exclude in WE\": \"weeklyexpense\"}, inplace=True)\n",
    "dfResult[\"created\"] = dfResult[\"Date\"].dt.strftime(\"%Y-%m-%d\")\n",
    "dfResult[\"updated\"] = dfResult[\"Date\"].dt.strftime(\"%Y-%m-%d\")\n",
    "\n",
    "dfResult.rename(columns={\"Amount\": \"amount\"}, inplace=True)\n",
    "dfResult.rename(columns={\"Store\": \"store\"}, inplace=True)\n",
    "dfResult.rename(columns={\"Category\": \"category\"}, inplace=True)\n",
    "dfResult.rename(columns={\"Description\": \"description\"}, inplace=True)\n",
    "\n",
    "cols = [\n",
    "    \"created\",\n",
    "    \"updated\",\n",
    "    \"amount\",\n",
    "    \"store\",\n",
    "    \"category\",\n",
    "    \"weeklyexpense\",\n",
    "    \"description\",\n",
    "]\n",
    "dfResult = dfResult[cols]\n",
    "dfResult.loc[dfResult.weeklyexpense == \"NO\", 'weeklyexpense'] = 1\n",
    "dfResult.loc[dfResult.weeklyexpense == \"YES\", 'weeklyexpense'] = 0\n",
    "\n",
    "dfResult.head(100)\n",
    "dfResult.to_json(orient='records',path_or_buf=outputJSON)\n",
    "dfResult.count()"
   ]
  },
  {
   "cell_type": "code",
   "execution_count": 21,
   "metadata": {},
   "outputs": [],
   "source": [
    "import pandas as pd\n",
    "# import openpyxl\n",
    "df = pd.read_csv('./sept.csv')\n",
    "df['created'] = pd.to_datetime(df['created']).dt.strftime(\"%Y-%m-%d\")\n",
    "df['updated'] =  df['created']\n",
    "\n",
    "cols = [\n",
    "    \"created\",\n",
    "    \"updated\",\n",
    "    \"amount\",\n",
    "    \"store\",\n",
    "    \"category\",\n",
    "    \"weeklyexpense\",\n",
    "    \"description\",\n",
    "]\n",
    "df = df[cols]\n",
    "df.head(100)\n",
    "df.to_json(orient='records',path_or_buf='./sept.json')\n"
   ]
  }
 ],
 "metadata": {
  "interpreter": {
   "hash": "9e8136d5e105671700127052dca5cf8ff7bcf71fb9f39ee52485dbf900c11735"
  },
  "kernelspec": {
   "display_name": "Python 3.8.5 64-bit ('expense-tracker': pyenv)",
   "name": "python3"
  },
  "language_info": {
   "codemirror_mode": {
    "name": "ipython",
    "version": 3
   },
   "file_extension": ".py",
   "mimetype": "text/x-python",
   "name": "python",
   "nbconvert_exporter": "python",
   "pygments_lexer": "ipython3",
   "version": "3.8.5"
  },
  "orig_nbformat": 4
 },
 "nbformat": 4,
 "nbformat_minor": 2
}
