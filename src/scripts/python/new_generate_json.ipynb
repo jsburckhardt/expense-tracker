{
 "cells": [
  {
   "cell_type": "code",
   "execution_count": 1,
   "metadata": {},
   "outputs": [
    {
     "name": "stderr",
     "output_type": "stream",
     "text": [
      "/home/ubuntu/.pyenv/versions/3.8.5/envs/expense-tracker-py/lib/python3.8/site-packages/pandas/io/excel/_base.py:1272: FutureWarning: Defining usecols with out of bounds indices is deprecated and will raise a ParserError in a future version.\n",
      "  return self._reader.parse(\n"
     ]
    },
    {
     "data": {
      "text/plain": [
       "created          8283\n",
       "updated          8283\n",
       "amount           8283\n",
       "store            8283\n",
       "category         8283\n",
       "weeklyexpense    8283\n",
       "description      8283\n",
       "dtype: int64"
      ]
     },
     "execution_count": 1,
     "metadata": {},
     "output_type": "execute_result"
    }
   ],
   "source": [
    "import pandas as pd\n",
    "import openpyxl\n",
    "\n",
    "sourceFile=\"Family expenses.xlsm\"\n",
    "# outputFile=\"Family expenses.csv\"\n",
    "outputJSON=\"output.json\"\n",
    "\n",
    "book = openpyxl.load_workbook(sourceFile, data_only=True, read_only=True)\n",
    "\n",
    "dfExpense = pd.read_excel(\n",
    "    sourceFile,\n",
    "    sheet_name=\"Expenses DB\",\n",
    "    skiprows=9,\n",
    "    usecols=\"J,Q:U\",\n",
    ")\n",
    "dfIncome = pd.read_excel(\n",
    "    sourceFile,\n",
    "    sheet_name=\"Income DB\",\n",
    "    skiprows=9,\n",
    "    usecols=\"J,Q:U\",\n",
    ")\n",
    "\n",
    "dfExpense[\"Amount\"] *= -1\n",
    "dfIncome.rename(columns={\"Type \": \"Category\"}, inplace=True)\n",
    "dfIncome[\"Store\"] = \"NA\"\n",
    "dfIncome[\"Exclude in WE\"] = \"YES\"\n",
    "dfResult = dfExpense.append(dfIncome)\n",
    "dfResult.sort_values(by=\"Date\", inplace=True)\n",
    "dfResult.rename(columns={\"Exclude in WE\": \"weeklyexpense\"}, inplace=True)\n",
    "dfResult[\"created\"] = dfResult[\"Date\"].dt.strftime(\"%Y-%m-%d\")\n",
    "dfResult[\"updated\"] = dfResult[\"Date\"].dt.strftime(\"%Y-%m-%d\")\n",
    "\n",
    "dfResult.rename(columns={\"Amount\": \"amount\"}, inplace=True)\n",
    "dfResult.rename(columns={\"Store\": \"store\"}, inplace=True)\n",
    "dfResult.rename(columns={\"Category\": \"category\"}, inplace=True)\n",
    "dfResult.rename(columns={\"Description\": \"description\"}, inplace=True)\n",
    "\n",
    "cols = [\n",
    "    \"created\",\n",
    "    \"updated\",\n",
    "    \"amount\",\n",
    "    \"store\",\n",
    "    \"category\",\n",
    "    \"weeklyexpense\",\n",
    "    \"description\",\n",
    "]\n",
    "dfResult = dfResult[cols]\n",
    "dfResult.loc[dfResult.weeklyexpense == \"NO\", 'weeklyexpense'] = 1\n",
    "dfResult.loc[dfResult.weeklyexpense == \"YES\", 'weeklyexpense'] = 0\n",
    "\n",
    "dfResult.head(100)\n",
    "dfResult.to_json(orient='records',path_or_buf=outputJSON)\n",
    "dfResult.count()"
   ]
  }
 ],
 "metadata": {
  "interpreter": {
   "hash": "3257d7608b8edb9f589e4d32a86d5cae731f487134dc516709c3424671813193"
  },
  "kernelspec": {
   "display_name": "Python 3.8.5 64-bit ('expense-tracker-py': pyenv)",
   "name": "python3"
  },
  "language_info": {
   "codemirror_mode": {
    "name": "ipython",
    "version": 3
   },
   "file_extension": ".py",
   "mimetype": "text/x-python",
   "name": "python",
   "nbconvert_exporter": "python",
   "pygments_lexer": "ipython3",
   "version": "3.8.5"
  },
  "orig_nbformat": 4
 },
 "nbformat": 4,
 "nbformat_minor": 2
}
